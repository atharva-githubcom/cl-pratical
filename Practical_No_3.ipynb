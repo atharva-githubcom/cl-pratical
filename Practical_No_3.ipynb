{
  "nbformat": 4,
  "nbformat_minor": 0,
  "metadata": {
    "colab": {
      "provenance": [],
      "authorship_tag": "ABX9TyOegsJ1u4zUa4WWTqGbUqAm",
      "include_colab_link": true
    },
    "kernelspec": {
      "name": "python3",
      "display_name": "Python 3"
    },
    "language_info": {
      "name": "python"
    }
  },
  "cells": [
    {
      "cell_type": "markdown",
      "metadata": {
        "id": "view-in-github",
        "colab_type": "text"
      },
      "source": [
        "<a href=\"https://colab.research.google.com/github/atharva-githubcom/cl-pratical/blob/main/Practical_No_4_ipynb_.ipynb\" target=\"_parent\"><img src=\"https://colab.research.google.com/assets/colab-badge.svg\" alt=\"Open In Colab\"/></a>"
      ]
    },
    {
      "cell_type": "code",
      "execution_count": null,
      "metadata": {
        "id": "17WIPhT6KmlA"
      },
      "outputs": [],
      "source": []
    },
    {
      "cell_type": "code",
      "source": [
        "import numpy as np\n",
        "\n",
        "# Function to perform Union operation on fuzzy sets\n",
        "def fuzzy_union(A, B):\n",
        "    return np.maximum(A, B)\n",
        "\n",
        "# Function to perform Intersection operation on fuzzy sets\n",
        "def fuzzy_intersection(A, B):\n",
        "    return np.minimum(A, B)\n",
        "\n",
        "# Function to perform Complement operation on a fuzzy set\n",
        "def fuzzy_complement(A):\n",
        "    return 1 - A\n",
        "\n",
        "# Function to perform Difference operation on fuzzy sets\n",
        "def fuzzy_difference(A, B):\n",
        "    return np.maximum(A, 1 - B)\n",
        "\n",
        "# Function to create fuzzy relation by Cartesian product of two fuzzy sets\n",
        "def cartesian_product(A, B):\n",
        "    return np.outer(A, B)\n",
        "\n",
        "# Function to perform Max-Min composition on two fuzzy relations\n",
        "def max_min_composition(R, S):\n",
        "    result = np.zeros((R.shape[0], S.shape[1]))\n",
        "    for i in range(R.shape[0]):\n",
        "        for j in range(S.shape[1]):\n",
        "            result[i, j] = np.max(np.minimum(R[i, :], S[:, j]))\n",
        "    return result\n",
        "\n",
        "# Example usage\n",
        "A = np.array([0.2, 0.4, 0.6, 0.8])  # Fuzzy set A\n",
        "B = np.array([0.3, 0.5, 0.7, 0.9])  # Fuzzy set B\n",
        "\n",
        "# Operations on fuzzy sets\n",
        "union_result = fuzzy_union(A, B)\n",
        "intersection_result = fuzzy_intersection(A, B)\n",
        "complement_A = fuzzy_complement(A)\n",
        "difference_result = fuzzy_difference(A, B)\n",
        "\n",
        "print(\"Union:\", union_result)\n",
        "print(\"Intersection:\", intersection_result)\n",
        "print(\"Complement of A:\", complement_A)\n",
        "print(\"Difference:\", difference_result)\n",
        "\n",
        "# Fuzzy relations\n",
        "R = np.array([[0.2, 0.5, 0.4],\n",
        "              [0.1, 0.8, 0.3]])  # Fuzzy relation R\n",
        "S = np.array([[0.6, 0.3],\n",
        "              [0.4, 0.7],\n",
        "              [0.5, 0.9]])  # Fuzzy relation S\n",
        "\n",
        "# Cartesian product of fuzzy sets A and B\n",
        "cartesian_result = cartesian_product(A, B)\n",
        "\n",
        "# Max-Min composition of fuzzy relations\n",
        "composition_result = max_min_composition(R, S)\n",
        "\n",
        "print(\"Cartesian product of A and B:\")\n",
        "print(cartesian_result)\n",
        "\n",
        "print(\"Max-Min composition of R and S:\")\n",
        "print(composition_result)\n"
      ],
      "metadata": {
        "colab": {
          "base_uri": "https://localhost:8080/"
        },
        "id": "cAhUwd7cKwFO",
        "outputId": "b31a52ea-c8b8-47f3-a89e-2fc25a2765d1"
      },
      "execution_count": 1,
      "outputs": [
        {
          "output_type": "stream",
          "name": "stdout",
          "text": [
            "Union: [0.3 0.5 0.7 0.9]\n",
            "Intersection: [0.2 0.4 0.6 0.8]\n",
            "Complement of A: [0.8 0.6 0.4 0.2]\n",
            "Difference: [0.7 0.5 0.6 0.8]\n",
            "Cartesian product of A and B:\n",
            "[[0.06 0.1  0.14 0.18]\n",
            " [0.12 0.2  0.28 0.36]\n",
            " [0.18 0.3  0.42 0.54]\n",
            " [0.24 0.4  0.56 0.72]]\n",
            "Max-Min composition of R and S:\n",
            "[[0.4 0.5]\n",
            " [0.4 0.7]]\n"
          ]
        }
      ]
    }
  ]
}
