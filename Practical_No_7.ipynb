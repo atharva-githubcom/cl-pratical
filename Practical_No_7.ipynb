{
  "cells": [
    {
      "cell_type": "markdown",
      "metadata": {
        "id": "view-in-github",
        "colab_type": "text"
      },
      "source": [
        "<a href=\"https://colab.research.google.com/github/atharva-githubcom/cl-pratical/blob/main/Practical_No_7.ipynb\" target=\"_parent\"><img src=\"https://colab.research.google.com/assets/colab-badge.svg\" alt=\"Open In Colab\"/></a>"
      ]
    },
    {
      "cell_type": "markdown",
      "id": "a13ba973-4eae-4753-90b4-16d0e3a68835",
      "metadata": {
        "id": "a13ba973-4eae-4753-90b4-16d0e3a68835"
      },
      "source": [
        "To apply the artificial immune pattern recognition to perform a task of structure damage Classification"
      ]
    },
    {
      "cell_type": "code",
      "execution_count": 1,
      "id": "c775ea20-ccfe-4be6-9124-779f1a4ba0b7",
      "metadata": {
        "id": "c775ea20-ccfe-4be6-9124-779f1a4ba0b7"
      },
      "outputs": [],
      "source": [
        "import numpy as np"
      ]
    },
    {
      "cell_type": "code",
      "execution_count": 2,
      "id": "d346bbe8-1541-4bc8-b654-eb240c40302b",
      "metadata": {
        "id": "d346bbe8-1541-4bc8-b654-eb240c40302b"
      },
      "outputs": [],
      "source": [
        "# Generate dummy data for demonstration purposes (replace this with your actual data)\n",
        "def generate_dummy_data(samples=100, features=10):\n",
        "    data = np.random.rand(samples, features)\n",
        "    labels = np.random.randint(0, 2, size=samples)\n",
        "    return data, labels\n"
      ]
    },
    {
      "cell_type": "code",
      "execution_count": 3,
      "id": "66179b87-f1f9-4e0d-bc18-bbcb4f7a249e",
      "metadata": {
        "id": "66179b87-f1f9-4e0d-bc18-bbcb4f7a249e"
      },
      "outputs": [],
      "source": [
        "# Define the AIRS algorithm\n",
        "class AIRS:\n",
        "    def __init__(self, num_detectors=10, hypermutation_rate=0.1):\n",
        "        self.num_detectors = num_detectors\n",
        "        self.hypermutation_rate = hypermutation_rate\n",
        "\n",
        "    def train(self, X, y):\n",
        "        self.detectors = X[np.random.choice(len(X), self.num_detectors, replace=False)]\n",
        "\n",
        "    def predict(self, X):\n",
        "        predictions = []\n",
        "        for sample in X:\n",
        "            distances = np.linalg.norm(self.detectors - sample, axis=1)\n",
        "            prediction = int(np.argmin(distances))\n",
        "            predictions.append(prediction)\n",
        "        return predictions\n"
      ]
    },
    {
      "cell_type": "code",
      "execution_count": 4,
      "id": "adc16957-11ab-4680-83f9-bfc549275f7b",
      "metadata": {
        "id": "adc16957-11ab-4680-83f9-bfc549275f7b"
      },
      "outputs": [],
      "source": [
        "# Generate dummy data\n",
        "data, labels = generate_dummy_data()\n"
      ]
    },
    {
      "cell_type": "code",
      "execution_count": 5,
      "id": "a28424fb-bb09-4b39-8b1e-eb8f38a96bb3",
      "metadata": {
        "id": "a28424fb-bb09-4b39-8b1e-eb8f38a96bb3"
      },
      "outputs": [],
      "source": [
        "# Split data into training and testing sets\n",
        "split_ratio = 0.8\n",
        "split_index = int(split_ratio * len(data))\n",
        "train_data, test_data = data[:split_index], data[split_index:]\n",
        "train_labels, test_labels = labels[:split_index], labels[split_index:]\n"
      ]
    },
    {
      "cell_type": "code",
      "execution_count": 6,
      "id": "4d229d72-069e-4a77-b00a-f80192b47906",
      "metadata": {
        "id": "4d229d72-069e-4a77-b00a-f80192b47906"
      },
      "outputs": [],
      "source": [
        "# Initialize and train AIRS\n",
        "airs = AIRS(num_detectors=10, hypermutation_rate=0.1)\n",
        "airs.train(train_data, train_labels)\n"
      ]
    },
    {
      "cell_type": "code",
      "execution_count": 7,
      "id": "bb397025-8c37-43be-9941-edd525332e9b",
      "metadata": {
        "id": "bb397025-8c37-43be-9941-edd525332e9b"
      },
      "outputs": [],
      "source": [
        "# Test AIRS on the test set\n",
        "predictions = airs.predict(test_data)\n"
      ]
    },
    {
      "cell_type": "code",
      "execution_count": 8,
      "id": "f7d7b3a2-3260-4421-baad-07a93892aaa7",
      "metadata": {
        "id": "f7d7b3a2-3260-4421-baad-07a93892aaa7",
        "outputId": "c3d4f4f3-0e87-49eb-f08f-9c8ecafc2d13",
        "colab": {
          "base_uri": "https://localhost:8080/"
        }
      },
      "outputs": [
        {
          "output_type": "stream",
          "name": "stdout",
          "text": [
            "Accuracy: 0.05\n"
          ]
        }
      ],
      "source": [
        "# Evaluate accuracy\n",
        "accuracy = np.mean(predictions == test_labels)\n",
        "print(f\"Accuracy: {accuracy}\")\n"
      ]
    },
    {
      "cell_type": "code",
      "execution_count": null,
      "id": "2cb06e35-8181-4440-9889-ce533a9c08ad",
      "metadata": {
        "id": "2cb06e35-8181-4440-9889-ce533a9c08ad"
      },
      "outputs": [],
      "source": []
    }
  ],
  "metadata": {
    "kernelspec": {
      "display_name": "Python 3 (ipykernel)",
      "language": "python",
      "name": "python3"
    },
    "language_info": {
      "codemirror_mode": {
        "name": "ipython",
        "version": 3
      },
      "file_extension": ".py",
      "mimetype": "text/x-python",
      "name": "python",
      "nbconvert_exporter": "python",
      "pygments_lexer": "ipython3",
      "version": "3.11.7"
    },
    "colab": {
      "provenance": [],
      "include_colab_link": true
    }
  },
  "nbformat": 4,
  "nbformat_minor": 5
}