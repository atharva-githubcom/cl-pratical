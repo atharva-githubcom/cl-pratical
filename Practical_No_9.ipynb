{
  "cells": [
    {
      "cell_type": "markdown",
      "metadata": {
        "id": "view-in-github",
        "colab_type": "text"
      },
      "source": [
        "<a href=\"https://colab.research.google.com/github/atharva-githubcom/cl-pratical/blob/main/Practical_No_9.ipynb\" target=\"_parent\"><img src=\"https://colab.research.google.com/assets/colab-badge.svg\" alt=\"Open In Colab\"/></a>"
      ]
    },
    {
      "cell_type": "markdown",
      "id": "5cd3ba6a-6bec-42e6-81c9-af5a339d0edd",
      "metadata": {
        "id": "5cd3ba6a-6bec-42e6-81c9-af5a339d0edd"
      },
      "source": [
        "Implement Ant colony optimization by solving the Traveling salesman problem using python  \n",
        "Problem statement- A salesman needs to visit a set of cities exactly once and return to the original city. The task is to find the shortest possible route that the salesman can take to visit all the cities and return to the starting city.\n"
      ]
    },
    {
      "cell_type": "code",
      "execution_count": 1,
      "id": "22544968-6d99-42fc-987d-7bfb8ae8b3b2",
      "metadata": {
        "id": "22544968-6d99-42fc-987d-7bfb8ae8b3b2"
      },
      "outputs": [],
      "source": [
        "import numpy as np\n",
        "import random\n"
      ]
    },
    {
      "cell_type": "code",
      "execution_count": 2,
      "id": "2e42775f-645f-469d-8835-d189a5ee9f92",
      "metadata": {
        "id": "2e42775f-645f-469d-8835-d189a5ee9f92"
      },
      "outputs": [],
      "source": [
        "# Define the distance matrix (distances between cities)\n",
        "# Replace this with your distance matrix or generate one based on your problem\n",
        "# Example distance matrix (replace this with your actual data)\n",
        "distance_matrix = np.array([\n",
        "    [0, 10, 15, 20],\n",
        "    [10, 0, 35, 25],\n",
        "    [15, 35, 0, 30],\n",
        "    [20, 25, 30, 0]\n",
        "])\n"
      ]
    },
    {
      "cell_type": "code",
      "execution_count": 3,
      "id": "156127ee-360d-469d-9459-a569bc178074",
      "metadata": {
        "id": "156127ee-360d-469d-9459-a569bc178074"
      },
      "outputs": [],
      "source": [
        "# Parameters for Ant Colony Optimization\n",
        "num_ants = 10\n",
        "num_iterations = 50\n",
        "evaporation_rate = 0.5\n",
        "pheromone_constant = 1.0\n",
        "heuristic_constant = 1.0\n"
      ]
    },
    {
      "cell_type": "code",
      "execution_count": 4,
      "id": "5ef60caf-3897-43c0-b509-7e67d8b8f9dc",
      "metadata": {
        "colab": {
          "base_uri": "https://localhost:8080/"
        },
        "id": "5ef60caf-3897-43c0-b509-7e67d8b8f9dc",
        "outputId": "f1bc871c-4b8d-44c1-9dc0-743aa88b9c5c"
      },
      "outputs": [
        {
          "output_type": "stream",
          "name": "stderr",
          "text": [
            "<ipython-input-4-c226b380e0f8>:4: RuntimeWarning: divide by zero encountered in divide\n",
            "  visibility = 1 / distance_matrix  # Visibility matrix (inverse of distance)\n"
          ]
        }
      ],
      "source": [
        "# Initialize pheromone matrix and visibility matrix\n",
        "num_cities = len(distance_matrix)\n",
        "pheromone = np.ones((num_cities, num_cities))  # Pheromone matrix\n",
        "visibility = 1 / distance_matrix  # Visibility matrix (inverse of distance)\n"
      ]
    },
    {
      "cell_type": "code",
      "execution_count": 5,
      "id": "b353669b-56b5-473e-9e2f-0e6de6b4a7ec",
      "metadata": {
        "id": "b353669b-56b5-473e-9e2f-0e6de6b4a7ec"
      },
      "outputs": [],
      "source": [
        "# ACO algorithm\n",
        "for iteration in range(num_iterations):\n",
        "    ant_routes = []\n",
        "    for ant in range(num_ants):\n",
        "        current_city = random.randint(0, num_cities - 1)\n",
        "        visited_cities = [current_city]\n",
        "        route = [current_city]\n",
        "\n",
        "        while len(visited_cities) < num_cities:\n",
        "            probabilities = []\n",
        "            for city in range(num_cities):\n",
        "                if city not in visited_cities:\n",
        "                    pheromone_value = pheromone[current_city][city]\n",
        "                    visibility_value = visibility[current_city][city]\n",
        "                    probability = (pheromone_value ** pheromone_constant) * (visibility_value ** heuristic_constant)\n",
        "                    probabilities.append((city, probability))\n",
        "\n",
        "            probabilities = sorted(probabilities, key=lambda x: x[1], reverse=True)\n",
        "            selected_city = probabilities[0][0]\n",
        "            route.append(selected_city)\n",
        "            visited_cities.append(selected_city)\n",
        "            current_city = selected_city\n",
        "\n",
        "        ant_routes.append(route)\n"
      ]
    },
    {
      "cell_type": "code",
      "execution_count": 6,
      "id": "34623ae0-5568-4f88-81a2-fea9859926e7",
      "metadata": {
        "id": "34623ae0-5568-4f88-81a2-fea9859926e7"
      },
      "outputs": [],
      "source": [
        "# Update pheromone levels\n",
        "delta_pheromone = np.zeros((num_cities, num_cities))\n",
        "for ant, route in enumerate(ant_routes):\n",
        "    for i in range(len(route) - 1):\n",
        "        city_a = route[i]\n",
        "        city_b = route[i + 1]\n",
        "        delta_pheromone[city_a][city_b] += 1 / distance_matrix[city_a][city_b]\n",
        "        delta_pheromone[city_b][city_a] += 1 / distance_matrix[city_a][city_b]\n",
        "\n",
        "pheromone = (1 - evaporation_rate) * pheromone + delta_pheromone\n"
      ]
    },
    {
      "cell_type": "code",
      "execution_count": 7,
      "id": "d0729431-81d3-46d7-85e4-0eff8623b33c",
      "metadata": {
        "colab": {
          "base_uri": "https://localhost:8080/"
        },
        "id": "d0729431-81d3-46d7-85e4-0eff8623b33c",
        "outputId": "f5e27730-9ead-4f47-faad-4f28377c2d46"
      },
      "outputs": [
        {
          "output_type": "stream",
          "name": "stdout",
          "text": [
            "Best route: [3, 0, 1, 2]\n",
            "Shortest distance: 95\n"
          ]
        }
      ],
      "source": [
        "# Find the best route\n",
        "best_route_index = np.argmax([sum(distance_matrix[cities[i]][cities[(i + 1) % num_cities]] for i in range(num_cities)) for cities in ant_routes])\n",
        "best_route = ant_routes[best_route_index]\n",
        "shortest_distance = sum(distance_matrix[best_route[i]][best_route[(i + 1) % num_cities]] for i in range(num_cities))\n",
        "\n",
        "print(\"Best route:\", best_route)\n",
        "print(\"Shortest distance:\", shortest_distance)\n"
      ]
    },
    {
      "cell_type": "code",
      "execution_count": null,
      "id": "10cd5fb5",
      "metadata": {
        "id": "10cd5fb5"
      },
      "outputs": [],
      "source": []
    }
  ],
  "metadata": {
    "kernelspec": {
      "display_name": "Python 3 (ipykernel)",
      "language": "python",
      "name": "python3"
    },
    "language_info": {
      "codemirror_mode": {
        "name": "ipython",
        "version": 3
      },
      "file_extension": ".py",
      "mimetype": "text/x-python",
      "name": "python",
      "nbconvert_exporter": "python",
      "pygments_lexer": "ipython3",
      "version": "3.9.13"
    },
    "colab": {
      "provenance": [],
      "include_colab_link": true
    }
  },
  "nbformat": 4,
  "nbformat_minor": 5
}