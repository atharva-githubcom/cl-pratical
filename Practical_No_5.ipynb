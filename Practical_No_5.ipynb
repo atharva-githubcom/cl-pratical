{
  "cells": [
    {
      "cell_type": "markdown",
      "metadata": {
        "id": "view-in-github",
        "colab_type": "text"
      },
      "source": [
        "<a href=\"https://colab.research.google.com/github/atharva-githubcom/cl-pratical/blob/main/Practical_No_5.ipynb\" target=\"_parent\"><img src=\"https://colab.research.google.com/assets/colab-badge.svg\" alt=\"Open In Colab\"/></a>"
      ]
    },
    {
      "cell_type": "markdown",
      "id": "b8a4ca92-9240-418f-95d9-989ce3c89747",
      "metadata": {
        "id": "b8a4ca92-9240-418f-95d9-989ce3c89747"
      },
      "source": [
        "Optimization of genetic algorithm parameter in hybrid genetic algorithm-neural network modelling:\n",
        "Application to spray drying of coconut milk."
      ]
    },
    {
      "cell_type": "code",
      "execution_count": 1,
      "id": "a6a1f0d1-cc2d-49fc-8166-f57fe5c24c21",
      "metadata": {
        "colab": {
          "base_uri": "https://localhost:8080/"
        },
        "id": "a6a1f0d1-cc2d-49fc-8166-f57fe5c24c21",
        "outputId": "83c7a29c-3871-42c2-df10-e31ce1b2c540"
      },
      "outputs": [
        {
          "output_type": "stream",
          "name": "stdout",
          "text": [
            "Collecting deap\n",
            "  Downloading deap-1.4.2-cp311-cp311-manylinux_2_5_x86_64.manylinux1_x86_64.manylinux_2_17_x86_64.manylinux2014_x86_64.whl.metadata (13 kB)\n",
            "Requirement already satisfied: numpy in /usr/local/lib/python3.11/dist-packages (from deap) (1.26.4)\n",
            "Downloading deap-1.4.2-cp311-cp311-manylinux_2_5_x86_64.manylinux1_x86_64.manylinux_2_17_x86_64.manylinux2014_x86_64.whl (135 kB)\n",
            "\u001b[?25l   \u001b[90m━━━━━━━━━━━━━━━━━━━━━━━━━━━━━━━━━━━━━━━━\u001b[0m \u001b[32m0.0/135.4 kB\u001b[0m \u001b[31m?\u001b[0m eta \u001b[36m-:--:--\u001b[0m\r\u001b[2K   \u001b[91m━━━━━━━━━━━━━━━━━━━━━━━━━━━━━━━━━━━━━━━\u001b[0m\u001b[90m╺\u001b[0m \u001b[32m133.1/135.4 kB\u001b[0m \u001b[31m4.5 MB/s\u001b[0m eta \u001b[36m0:00:01\u001b[0m\r\u001b[2K   \u001b[90m━━━━━━━━━━━━━━━━━━━━━━━━━━━━━━━━━━━━━━━━\u001b[0m \u001b[32m135.4/135.4 kB\u001b[0m \u001b[31m2.8 MB/s\u001b[0m eta \u001b[36m0:00:00\u001b[0m\n",
            "\u001b[?25hInstalling collected packages: deap\n",
            "Successfully installed deap-1.4.2\n"
          ]
        }
      ],
      "source": [
        "pip install deap"
      ]
    },
    {
      "cell_type": "code",
      "execution_count": 2,
      "id": "6962e39d-22f9-45ef-ab34-db881ee03453",
      "metadata": {
        "id": "6962e39d-22f9-45ef-ab34-db881ee03453"
      },
      "outputs": [],
      "source": [
        "import random\n",
        "from deap import base, creator, tools, algorithms\n"
      ]
    },
    {
      "cell_type": "code",
      "execution_count": 3,
      "id": "d34157de-6cd0-4c7c-899f-c7d2347ee8b3",
      "metadata": {
        "id": "d34157de-6cd0-4c7c-899f-c7d2347ee8b3"
      },
      "outputs": [],
      "source": [
        "# Define evaluation function (this is a mock function, replace this with your actual evaluation function)\n",
        "def evaluate(individual):\n",
        "    # Here 'individual' represents the parameters for the neural network\n",
        "    # You'll need to replace this with your actual evaluation function that trains the neural network and evaluates its performance\n",
        "    # Return a fitness value (here, a random number is used as an example)\n",
        "    return random.random(),\n"
      ]
    },
    {
      "cell_type": "code",
      "execution_count": 13,
      "id": "52d2cc82-52fd-4d3e-9ff3-a423b33c6d9e",
      "metadata": {
        "id": "52d2cc82-52fd-4d3e-9ff3-a423b33c6d9e"
      },
      "outputs": [],
      "source": [
        "# Define genetic algorithm parameters\n",
        "POPULATION_SIZE = 10\n",
        "GENERATIONS = 5\n"
      ]
    },
    {
      "cell_type": "code",
      "execution_count": 14,
      "id": "40399547-952d-4f2e-8038-fc221615b5a8",
      "metadata": {
        "colab": {
          "base_uri": "https://localhost:8080/"
        },
        "id": "40399547-952d-4f2e-8038-fc221615b5a8",
        "outputId": "913bcc10-2bc5-45a0-c233-5315f7733c6e"
      },
      "outputs": [
        {
          "output_type": "stream",
          "name": "stderr",
          "text": [
            "/usr/local/lib/python3.11/dist-packages/deap/creator.py:185: RuntimeWarning: A class named 'FitnessMin' has already been created and it will be overwritten. Consider deleting previous creation of that class or rename it.\n",
            "  warnings.warn(\"A class named '{0}' has already been created and it \"\n",
            "/usr/local/lib/python3.11/dist-packages/deap/creator.py:185: RuntimeWarning: A class named 'Individual' has already been created and it will be overwritten. Consider deleting previous creation of that class or rename it.\n",
            "  warnings.warn(\"A class named '{0}' has already been created and it \"\n"
          ]
        }
      ],
      "source": [
        "# Create types for fitness and individuals in the genetic algorithm\n",
        "creator.create(\"FitnessMin\", base.Fitness, weights=(-1.0,))\n",
        "creator.create(\"Individual\", list, fitness=creator.FitnessMin)\n"
      ]
    },
    {
      "cell_type": "code",
      "execution_count": 15,
      "id": "58951679-c100-4059-bb38-a7f0f2cc74f8",
      "metadata": {
        "id": "58951679-c100-4059-bb38-a7f0f2cc74f8"
      },
      "outputs": [],
      "source": [
        "# Initialize toolbox\n",
        "toolbox = base.Toolbox()\n"
      ]
    },
    {
      "cell_type": "code",
      "execution_count": 16,
      "id": "99432d69-9dd0-478d-b3e8-391bb0040315",
      "metadata": {
        "id": "99432d69-9dd0-478d-b3e8-391bb0040315"
      },
      "outputs": [],
      "source": [
        "# Define attributes and individuals\n",
        "toolbox.register(\"attr_neurons\", random.randint, 1, 100)  # Example: number of neurons\n",
        "toolbox.register(\"attr_layers\", random.randint, 1, 5)  # Example: number of layers\n",
        "toolbox.register(\"individual\", tools.initCycle, creator.Individual, (toolbox.attr_neurons, toolbox.attr_layers), n=1)\n",
        "toolbox.register(\"population\", tools.initRepeat, list, toolbox.individual)\n"
      ]
    },
    {
      "cell_type": "code",
      "execution_count": 17,
      "id": "59d65522-1824-4ed3-8678-7d057433c239",
      "metadata": {
        "id": "59d65522-1824-4ed3-8678-7d057433c239"
      },
      "outputs": [],
      "source": [
        "# Genetic operators\n",
        "toolbox.register(\"evaluate\", evaluate)\n",
        "toolbox.register(\"mate\", tools.cxTwoPoint)\n",
        "toolbox.register(\"mutate\", tools.mutUniformInt, low=1, up=100, indpb=0.2)\n",
        "toolbox.register(\"select\", tools.selTournament, tournsize=3)\n"
      ]
    },
    {
      "cell_type": "code",
      "execution_count": 18,
      "id": "53cea13e-ef4a-4866-81d5-8284e68d4a03",
      "metadata": {
        "id": "53cea13e-ef4a-4866-81d5-8284e68d4a03"
      },
      "outputs": [],
      "source": [
        "# Create initial population\n",
        "population = toolbox.population(n=POPULATION_SIZE)\n"
      ]
    },
    {
      "cell_type": "code",
      "execution_count": 19,
      "id": "5bd54aef-1503-44b9-907c-3ed2e70cd4dc",
      "metadata": {
        "id": "5bd54aef-1503-44b9-907c-3ed2e70cd4dc"
      },
      "outputs": [],
      "source": [
        "# Run the genetic algorithm\n",
        "for gen in range(GENERATIONS):\n",
        "    offspring = algorithms.varAnd(population, toolbox, cxpb=0.5, mutpb=0.1)\n",
        "\n",
        "    fitnesses = toolbox.map(toolbox.evaluate, offspring)\n",
        "    for ind, fit in zip(offspring, fitnesses):\n",
        "        ind.fitness.values = fit\n",
        "\n",
        "    population = toolbox.select(offspring, k=len(population))\n"
      ]
    },
    {
      "cell_type": "code",
      "execution_count": 20,
      "id": "5a76fc96-88ba-43fa-8e27-ad0a1935693f",
      "metadata": {
        "id": "5a76fc96-88ba-43fa-8e27-ad0a1935693f"
      },
      "outputs": [],
      "source": [
        "# Get the best individual from the final population\n",
        "best_individual = tools.selBest(population, k=1)[0]\n",
        "best_params = best_individual\n"
      ]
    },
    {
      "cell_type": "code",
      "execution_count": 21,
      "id": "a4ffda36-717f-466c-9f74-cb12ebd628af",
      "metadata": {
        "colab": {
          "base_uri": "https://localhost:8080/"
        },
        "id": "a4ffda36-717f-466c-9f74-cb12ebd628af",
        "outputId": "7ab43dc7-966a-4e61-892e-678341a06112"
      },
      "outputs": [
        {
          "output_type": "stream",
          "name": "stdout",
          "text": [
            "Best Parameters: [58, 2]\n"
          ]
        }
      ],
      "source": [
        "# Print the best parameters found\n",
        "print(\"Best Parameters:\", best_params)\n"
      ]
    },
    {
      "cell_type": "code",
      "execution_count": null,
      "id": "0ca64fdb-8af0-4499-9158-356cadbf3b30",
      "metadata": {
        "id": "0ca64fdb-8af0-4499-9158-356cadbf3b30"
      },
      "outputs": [],
      "source": []
    }
  ],
  "metadata": {
    "kernelspec": {
      "display_name": "Python 3 (ipykernel)",
      "language": "python",
      "name": "python3"
    },
    "language_info": {
      "codemirror_mode": {
        "name": "ipython",
        "version": 3
      },
      "file_extension": ".py",
      "mimetype": "text/x-python",
      "name": "python",
      "nbconvert_exporter": "python",
      "pygments_lexer": "ipython3",
      "version": "3.9.13"
    },
    "colab": {
      "provenance": [],
      "include_colab_link": true
    }
  },
  "nbformat": 4,
  "nbformat_minor": 5
}