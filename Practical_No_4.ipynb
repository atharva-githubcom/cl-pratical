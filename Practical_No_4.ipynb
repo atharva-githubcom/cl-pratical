{
  "nbformat": 4,
  "nbformat_minor": 0,
  "metadata": {
    "colab": {
      "provenance": [],
      "authorship_tag": "ABX9TyO3+xPzzCdtNCwUh3yAbuAT",
      "include_colab_link": true
    },
    "kernelspec": {
      "name": "python3",
      "display_name": "Python 3"
    },
    "language_info": {
      "name": "python"
    }
  },
  "cells": [
    {
      "cell_type": "markdown",
      "metadata": {
        "id": "view-in-github",
        "colab_type": "text"
      },
      "source": [
        "<a href=\"https://colab.research.google.com/github/atharva-githubcom/cl-pratical/blob/main/pratical_4.ipynb\" target=\"_parent\"><img src=\"https://colab.research.google.com/assets/colab-badge.svg\" alt=\"Open In Colab\"/></a>"
      ]
    },
    {
      "cell_type": "code",
      "source": [
        "import random\n",
        "\n",
        "class LoadBalancer:\n",
        "    def __init__(self, servers, strategy):\n",
        "        self.servers = servers\n",
        "        self.strategy = strategy\n",
        "        self.connections = [0] * len(servers)\n",
        "        self.index = 0  # For round-robin\n",
        "\n",
        "    def get_server(self):\n",
        "        if self.strategy == \"round_robin\":\n",
        "            server = self.servers[self.index]\n",
        "            self.index = (self.index + 1) % len(self.servers)\n",
        "            return server\n",
        "\n",
        "        elif self.strategy == \"least_connections\":\n",
        "            min_conn_index = self.connections.index(min(self.connections))\n",
        "            return self.servers[min_conn_index]\n",
        "\n",
        "        elif self.strategy == \"random\":\n",
        "            return random.choice(self.servers)\n",
        "\n",
        "        else:\n",
        "            raise ValueError(\"Unknown strategy\")\n",
        "\n",
        "    def handle_request(self):\n",
        "        server = self.get_server()\n",
        "        server_index = self.servers.index(server)\n",
        "        self.connections[server_index] += 1\n",
        "\n",
        "        print(f\"Request handled by {server} (Connections: {self.connections})\")\n",
        "\n",
        "        # Simulate request completion (optional)\n",
        "        self.connections[server_index] -= 1\n",
        "\n",
        "\n",
        "def simulate_requests(lb, num_requests):\n",
        "    print(f\"\\n--- Simulating {lb.strategy} strategy ---\")\n",
        "    for _ in range(num_requests):\n",
        "        lb.handle_request()\n",
        "\n",
        "\n",
        "# Test the LoadBalancer\n",
        "server_names = [\"Server1\", \"Server2\", \"Server3\"]\n",
        "\n",
        "simulate_requests(LoadBalancer(server_names, \"round_robin\"), 9)\n",
        "simulate_requests(LoadBalancer(server_names, \"least_connections\"), 9)\n",
        "simulate_requests(LoadBalancer(server_names, \"random\"), 9)\n"
      ],
      "metadata": {
        "colab": {
          "base_uri": "https://localhost:8080/"
        },
        "id": "sQwrCwOQwlJT",
        "outputId": "7be73241-5d44-4821-975f-cac641241768"
      },
      "execution_count": null,
      "outputs": [
        {
          "output_type": "stream",
          "name": "stdout",
          "text": [
            "\n",
            "--- Simulating round_robin strategy ---\n",
            "Request handled by Server1 (Connections: [1, 0, 0])\n",
            "Request handled by Server2 (Connections: [0, 1, 0])\n",
            "Request handled by Server3 (Connections: [0, 0, 1])\n",
            "Request handled by Server1 (Connections: [1, 0, 0])\n",
            "Request handled by Server2 (Connections: [0, 1, 0])\n",
            "Request handled by Server3 (Connections: [0, 0, 1])\n",
            "Request handled by Server1 (Connections: [1, 0, 0])\n",
            "Request handled by Server2 (Connections: [0, 1, 0])\n",
            "Request handled by Server3 (Connections: [0, 0, 1])\n",
            "\n",
            "--- Simulating least_connections strategy ---\n",
            "Request handled by Server1 (Connections: [1, 0, 0])\n",
            "Request handled by Server1 (Connections: [1, 0, 0])\n",
            "Request handled by Server1 (Connections: [1, 0, 0])\n",
            "Request handled by Server1 (Connections: [1, 0, 0])\n",
            "Request handled by Server1 (Connections: [1, 0, 0])\n",
            "Request handled by Server1 (Connections: [1, 0, 0])\n",
            "Request handled by Server1 (Connections: [1, 0, 0])\n",
            "Request handled by Server1 (Connections: [1, 0, 0])\n",
            "Request handled by Server1 (Connections: [1, 0, 0])\n",
            "\n",
            "--- Simulating random strategy ---\n",
            "Request handled by Server2 (Connections: [0, 1, 0])\n",
            "Request handled by Server2 (Connections: [0, 1, 0])\n",
            "Request handled by Server2 (Connections: [0, 1, 0])\n",
            "Request handled by Server1 (Connections: [1, 0, 0])\n",
            "Request handled by Server1 (Connections: [1, 0, 0])\n",
            "Request handled by Server3 (Connections: [0, 0, 1])\n",
            "Request handled by Server3 (Connections: [0, 0, 1])\n",
            "Request handled by Server2 (Connections: [0, 1, 0])\n",
            "Request handled by Server3 (Connections: [0, 0, 1])\n"
          ]
        }
      ]
    }
  ]
}
