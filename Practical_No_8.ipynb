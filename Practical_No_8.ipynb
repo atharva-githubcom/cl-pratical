{
  "cells": [
    {
      "cell_type": "markdown",
      "metadata": {
        "id": "view-in-github",
        "colab_type": "text"
      },
      "source": [
        "<a href=\"https://colab.research.google.com/github/atharva-githubcom/cl-pratical/blob/main/Practical_No_8.ipynb\" target=\"_parent\"><img src=\"https://colab.research.google.com/assets/colab-badge.svg\" alt=\"Open In Colab\"/></a>"
      ]
    },
    {
      "cell_type": "markdown",
      "id": "6e71728b-bd74-4d1e-b2bc-7417bbac6c8a",
      "metadata": {
        "id": "6e71728b-bd74-4d1e-b2bc-7417bbac6c8a"
      },
      "source": [
        "Implement DEAP (Distributed Evolutionary Algorithms) using Python"
      ]
    },
    {
      "cell_type": "code",
      "execution_count": 1,
      "id": "e8d67771-762f-4356-a9f5-7bf87f6db4ad",
      "metadata": {
        "colab": {
          "base_uri": "https://localhost:8080/"
        },
        "id": "e8d67771-762f-4356-a9f5-7bf87f6db4ad",
        "outputId": "a14f6926-ffb6-4c7d-b139-20152c65f547"
      },
      "outputs": [
        {
          "output_type": "stream",
          "name": "stdout",
          "text": [
            "Collecting deap\n",
            "  Downloading deap-1.4.2-cp311-cp311-manylinux_2_5_x86_64.manylinux1_x86_64.manylinux_2_17_x86_64.manylinux2014_x86_64.whl.metadata (13 kB)\n",
            "Requirement already satisfied: numpy in /usr/local/lib/python3.11/dist-packages (from deap) (1.26.4)\n",
            "Downloading deap-1.4.2-cp311-cp311-manylinux_2_5_x86_64.manylinux1_x86_64.manylinux_2_17_x86_64.manylinux2014_x86_64.whl (135 kB)\n",
            "\u001b[2K   \u001b[90m━━━━━━━━━━━━━━━━━━━━━━━━━━━━━━━━━━━━━━━━\u001b[0m \u001b[32m135.4/135.4 kB\u001b[0m \u001b[31m3.3 MB/s\u001b[0m eta \u001b[36m0:00:00\u001b[0m\n",
            "\u001b[?25hInstalling collected packages: deap\n",
            "Successfully installed deap-1.4.2\n"
          ]
        }
      ],
      "source": [
        "pip install deap"
      ]
    },
    {
      "cell_type": "code",
      "execution_count": 2,
      "id": "47df6771-ff2f-420c-9a1a-53599e0f867c",
      "metadata": {
        "id": "47df6771-ff2f-420c-9a1a-53599e0f867c"
      },
      "outputs": [],
      "source": [
        "\n",
        "import random\n",
        "from deap import base, creator, tools, algorithms\n"
      ]
    },
    {
      "cell_type": "code",
      "execution_count": 3,
      "id": "c8a9cd6c-b6f1-43f4-b4d3-f1f5ac27abd9",
      "metadata": {
        "id": "c8a9cd6c-b6f1-43f4-b4d3-f1f5ac27abd9"
      },
      "outputs": [],
      "source": [
        "# Define the evaluation function (minimize a simple mathematical function)\n",
        "def eval_func(individual):\n",
        "    # Example evaluation function (minimize a quadratic function)\n",
        "    return sum(x ** 2 for x in individual),\n"
      ]
    },
    {
      "cell_type": "code",
      "execution_count": 4,
      "id": "6ad8da53-c13f-46a4-bc2c-a86dfff44b90",
      "metadata": {
        "id": "6ad8da53-c13f-46a4-bc2c-a86dfff44b90"
      },
      "outputs": [],
      "source": [
        "# DEAP setup\n",
        "creator.create(\"FitnessMin\", base.Fitness, weights=(-1.0,))\n",
        "creator.create(\"Individual\", list, fitness=creator.FitnessMin)\n",
        "\n",
        "toolbox = base.Toolbox()\n"
      ]
    },
    {
      "cell_type": "code",
      "execution_count": 5,
      "id": "03182d48-422d-4840-b15e-284daf86b737",
      "metadata": {
        "id": "03182d48-422d-4840-b15e-284daf86b737"
      },
      "outputs": [],
      "source": [
        "# Define attributes and individuals\n",
        "toolbox.register(\"attr_float\", random.uniform, -5.0, 5.0)  # Example: Float values between -5 and 5\n",
        "toolbox.register(\"individual\", tools.initRepeat, creator.Individual, toolbox.attr_float, n=3)  # Example: 3-dimensional individual\n",
        "toolbox.register(\"population\", tools.initRepeat, list, toolbox.individual)\n"
      ]
    },
    {
      "cell_type": "code",
      "execution_count": 6,
      "id": "0959295d-b35c-444c-b444-bad859fabfd1",
      "metadata": {
        "id": "0959295d-b35c-444c-b444-bad859fabfd1"
      },
      "outputs": [],
      "source": [
        "# Evaluation function and genetic operators\n",
        "toolbox.register(\"evaluate\", eval_func)\n",
        "toolbox.register(\"mate\", tools.cxBlend, alpha=0.5)\n",
        "toolbox.register(\"mutate\", tools.mutGaussian, mu=0, sigma=1, indpb=0.2)\n",
        "toolbox.register(\"select\", tools.selTournament, tournsize=3)\n"
      ]
    },
    {
      "cell_type": "code",
      "execution_count": 7,
      "id": "fe9f99b2-4c0e-4318-84d2-6098da7d4ac9",
      "metadata": {
        "id": "fe9f99b2-4c0e-4318-84d2-6098da7d4ac9"
      },
      "outputs": [],
      "source": [
        "# Create population\n",
        "population = toolbox.population(n=50)"
      ]
    },
    {
      "cell_type": "code",
      "execution_count": 8,
      "id": "216e7a5e-0efb-4e5b-a677-fe4aae30ec54",
      "metadata": {
        "id": "216e7a5e-0efb-4e5b-a677-fe4aae30ec54"
      },
      "outputs": [],
      "source": [
        "# Genetic Algorithm parameters\n",
        "generations = 20\n"
      ]
    },
    {
      "cell_type": "code",
      "execution_count": 9,
      "id": "fa446125-894c-4e41-9dff-345663a39abf",
      "metadata": {
        "id": "fa446125-894c-4e41-9dff-345663a39abf"
      },
      "outputs": [],
      "source": [
        "# Run the algorithm\n",
        "for gen in range(generations):\n",
        "    offspring = algorithms.varAnd(population, toolbox, cxpb=0.5, mutpb=0.1)\n",
        "\n",
        "    fits = toolbox.map(toolbox.evaluate, offspring)\n",
        "    for fit, ind in zip(fits, offspring):\n",
        "        ind.fitness.values = fit\n",
        "\n",
        "    population = toolbox.select(offspring, k=len(population))\n"
      ]
    },
    {
      "cell_type": "code",
      "execution_count": 10,
      "id": "b4d84423-f97e-498d-8cd0-65407835b2ec",
      "metadata": {
        "colab": {
          "base_uri": "https://localhost:8080/"
        },
        "id": "b4d84423-f97e-498d-8cd0-65407835b2ec",
        "outputId": "54072cde-bae3-4e1c-c076-401352cc1848"
      },
      "outputs": [
        {
          "output_type": "stream",
          "name": "stdout",
          "text": [
            "Best individual: [0.00679495887511956, -0.013558120030155942, -0.009366986848081628]\n",
            "Best fitness: 0.000317734527478816\n"
          ]
        }
      ],
      "source": [
        "# Get the best individual after generations\n",
        "best_ind = tools.selBest(population, k=1)[0]\n",
        "best_fitness = best_ind.fitness.values[0]\n",
        "\n",
        "print(\"Best individual:\", best_ind)\n",
        "print(\"Best fitness:\", best_fitness)"
      ]
    },
    {
      "cell_type": "code",
      "execution_count": null,
      "id": "30cfa073-97fb-4d11-8f4b-f1574d61772f",
      "metadata": {
        "id": "30cfa073-97fb-4d11-8f4b-f1574d61772f"
      },
      "outputs": [],
      "source": []
    }
  ],
  "metadata": {
    "kernelspec": {
      "display_name": "Python 3 (ipykernel)",
      "language": "python",
      "name": "python3"
    },
    "language_info": {
      "codemirror_mode": {
        "name": "ipython",
        "version": 3
      },
      "file_extension": ".py",
      "mimetype": "text/x-python",
      "name": "python",
      "nbconvert_exporter": "python",
      "pygments_lexer": "ipython3",
      "version": "3.11.7"
    },
    "colab": {
      "provenance": [],
      "include_colab_link": true
    }
  },
  "nbformat": 4,
  "nbformat_minor": 5
}