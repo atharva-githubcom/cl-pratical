{
  "cells": [
    {
      "cell_type": "markdown",
      "metadata": {
        "id": "view-in-github",
        "colab_type": "text"
      },
      "source": [
        "<a href=\"https://colab.research.google.com/github/atharva-githubcom/cl-pratical/blob/main/Practical_No_6.ipynb\" target=\"_parent\"><img src=\"https://colab.research.google.com/assets/colab-badge.svg\" alt=\"Open In Colab\"/></a>"
      ]
    },
    {
      "cell_type": "markdown",
      "id": "c23c9579-6553-41f2-9970-2b3f29beeda9",
      "metadata": {
        "id": "c23c9579-6553-41f2-9970-2b3f29beeda9"
      },
      "source": [
        "Implementation of Clonal selection algorithm using Python.\n"
      ]
    },
    {
      "cell_type": "code",
      "execution_count": 1,
      "id": "7cadabf6-9038-425b-9fe1-17a2a21a07f4",
      "metadata": {
        "id": "7cadabf6-9038-425b-9fe1-17a2a21a07f4"
      },
      "outputs": [],
      "source": [
        "import random\n",
        "import numpy as np"
      ]
    },
    {
      "cell_type": "code",
      "execution_count": 2,
      "id": "78170c35-f94c-420c-ae03-8268f130f555",
      "metadata": {
        "id": "78170c35-f94c-420c-ae03-8268f130f555"
      },
      "outputs": [],
      "source": [
        "# Define objective function (fitness function)\n",
        "def objective_function(x):\n",
        "    # Example: Sphere function\n",
        "    return sum([i**2 for i in x])"
      ]
    },
    {
      "cell_type": "code",
      "execution_count": 3,
      "id": "8af86836-0ac6-4f3b-b4b0-e64a97a63556",
      "metadata": {
        "id": "8af86836-0ac6-4f3b-b4b0-e64a97a63556"
      },
      "outputs": [],
      "source": [
        "# Define Clonal Selection Algorithm\n",
        "def clonal_selection_algorithm(dimensions, num_candidates, num_clones, mutation_rate, max_iterations):\n",
        "    # Initialize population with random solutions\n",
        "    population = [np.random.uniform(-5, 5, dimensions) for _ in range(num_candidates)]\n",
        "\n",
        "    for iteration in range(max_iterations):\n",
        "        # Evaluate fitness of each candidate solution\n",
        "        fitness = [objective_function(candidate) for candidate in population]\n",
        "\n",
        "        # Sort candidates by fitness\n",
        "        sorted_indices = np.argsort(fitness)\n",
        "        population = [population[i] for i in sorted_indices]\n",
        "\n",
        "        # Select top candidates for cloning\n",
        "        clones = population[:num_clones]\n",
        "\n",
        "        # Clone candidates\n",
        "        clones = [clone for candidate in clones for clone in [candidate] * num_clones]\n",
        "\n",
        "        # Mutate clones\n",
        "        for i in range(len(clones)):\n",
        "            for j in range(dimensions):\n",
        "                if random.random() < mutation_rate:\n",
        "                    clones[i][j] += random.uniform(-0.5, 0.5)  # Add small random value\n",
        "\n",
        "        # Evaluate fitness of clones\n",
        "        clone_fitness = [objective_function(clone) for clone in clones]\n",
        "\n",
        "        # Select top clones\n",
        "        population = [clones[i] for i in np.argsort(clone_fitness)[:num_candidates]]\n",
        "\n",
        "        # Output best candidate solution in this iteration\n",
        "        print(f\"Iteration {iteration+1}: Best solution - {population[0]}, Fitness - {clone_fitness[0]}\")\n",
        "\n",
        "    # Return the best solution found\n",
        "    best_solution = population[0]\n",
        "    best_fitness = objective_function(best_solution)\n",
        "    return best_solution, best_fitness"
      ]
    },
    {
      "cell_type": "code",
      "execution_count": 4,
      "id": "b81bd531-f38a-47fd-a096-12808e658acb",
      "metadata": {
        "id": "b81bd531-f38a-47fd-a096-12808e658acb"
      },
      "outputs": [],
      "source": [
        "# Example usage\n",
        "dimensions = 3\n",
        "num_candidates = 20\n",
        "num_clones = 10\n",
        "mutation_rate = 0.1\n",
        "max_iterations = 50"
      ]
    },
    {
      "cell_type": "code",
      "execution_count": 5,
      "id": "06a6e39e-032b-4476-ae6e-1700876afeab",
      "metadata": {
        "colab": {
          "base_uri": "https://localhost:8080/"
        },
        "id": "06a6e39e-032b-4476-ae6e-1700876afeab",
        "outputId": "5914c032-1486-4136-f591-e8d77218a319"
      },
      "outputs": [
        {
          "output_type": "stream",
          "name": "stdout",
          "text": [
            "Iteration 1: Best solution - [-1.99068632  0.12064101 -1.89330283], Fitness - 7.561981879738749\n",
            "Iteration 2: Best solution - [-0.69409903  0.37070774 -1.83109101], Fitness - 3.9720919859903554\n",
            "Iteration 3: Best solution - [ 0.15464176  0.2237721  -1.65504489], Fitness - 2.813161603103471\n",
            "Iteration 4: Best solution - [ 2.06650687  0.36125145 -3.45350978], Fitness - 16.327683059879107\n",
            "Iteration 5: Best solution - [ 1.86790379e+00 -1.85129296e-03 -3.79496873e+00], Fitness - 17.890855670644942\n",
            "Iteration 6: Best solution - [ 1.41195741  0.21755833 -3.44765654], Fitness - 13.927290979267642\n",
            "Iteration 7: Best solution - [ 1.37849091  0.09064996 -2.19213407], Fitness - 6.713906373341551\n",
            "Iteration 8: Best solution - [ 2.3393349   0.17437313 -2.73976791], Fitness - 13.00922196068618\n",
            "Iteration 9: Best solution - [ 1.42967962  0.82627609 -3.75320747], Fitness - 16.813282319244813\n",
            "Iteration 10: Best solution - [ 2.44454276  0.4480348  -4.25582199], Fitness - 24.288545263002007\n",
            "Iteration 11: Best solution - [ 3.13753604  0.44905365 -6.90933101], Fitness - 57.78463665925101\n",
            "Iteration 12: Best solution - [ 5.29432923  0.5685848  -7.31199964], Fitness - 81.81854931518201\n",
            "Iteration 13: Best solution - [ 5.85339311 -1.74594768 -5.97410402], Fitness - 73.00046302371851\n",
            "Iteration 14: Best solution - [ 8.24365479 -0.44836307 -5.76574087], Fitness - 101.40264150856402\n",
            "Iteration 15: Best solution - [ 5.93833982 -0.75043081 -4.51959539], Fitness - 56.25376879054844\n",
            "Iteration 16: Best solution - [ 5.59598277 -0.03390529 -5.56701776], Fitness - 62.30785944664538\n",
            "Iteration 17: Best solution - [ 4.53104009  0.86583437 -4.60933555], Fitness - 42.52596767002751\n",
            "Iteration 18: Best solution - [ 6.74771946  0.17799864 -4.41297676], Fitness - 65.03776527160919\n",
            "Iteration 19: Best solution - [ 6.39639666  0.82506664 -4.8890911 ], Fitness - 65.49783692528332\n",
            "Iteration 20: Best solution - [ 7.16847227  1.93421394 -6.35648957], Fitness - 95.53313800637869\n",
            "Iteration 21: Best solution - [ 7.42853181  1.64380979 -6.20910654], Fitness - 96.43819954018849\n",
            "Iteration 22: Best solution - [ 7.79277091  2.15852682 -6.74088909], Fitness - 110.826102265059\n",
            "Iteration 23: Best solution - [ 7.73521654  2.26598437 -6.36585442], Fitness - 105.4923627045019\n",
            "Iteration 24: Best solution - [ 6.36454306  1.42047794 -6.61613267], Fitness - 86.29837748838409\n",
            "Iteration 25: Best solution - [ 5.91948285  1.77952096 -6.56625915], Fitness - 81.32273128688331\n",
            "Iteration 26: Best solution - [ 6.49160777  1.47622253 -4.80447643], Fitness - 67.4031982307007\n",
            "Iteration 27: Best solution - [ 7.0653634   0.97084469 -4.40823952], Fitness - 70.29447508411326\n",
            "Iteration 28: Best solution - [ 6.97759808  0.95689984 -3.28698257], Fitness - 60.40678667670286\n",
            "Iteration 29: Best solution - [ 6.82386166 -0.04013767 -2.04649829], Fitness - 50.754854194451376\n",
            "Iteration 30: Best solution - [ 7.31446241 -1.41116756 -1.49104665], Fitness - 57.715974351277794\n",
            "Iteration 31: Best solution - [ 6.39484112  0.17499878 -2.34538491], Fitness - 46.42544784950458\n",
            "Iteration 32: Best solution - [ 4.59626685  0.70550481 -1.78091823], Fitness - 24.79507573547234\n",
            "Iteration 33: Best solution - [ 4.97830446 -0.19296394 -4.08904935], Fitness - 41.541074984474974\n",
            "Iteration 34: Best solution - [ 5.40213019  0.82146728 -5.88117775], Fitness - 64.44607086541642\n",
            "Iteration 35: Best solution - [ 4.3806759   0.34632458 -6.05394235], Fitness - 55.960480056672566\n",
            "Iteration 36: Best solution - [ 3.31685372  0.82998948 -6.57209182], Fitness - 54.882792058888626\n",
            "Iteration 37: Best solution - [ 2.63766001  0.68968739 -5.40520993], Fitness - 36.64921348443739\n",
            "Iteration 38: Best solution - [ 3.60352259 -1.29357706 -5.61654541], Fitness - 46.20429897883585\n",
            "Iteration 39: Best solution - [ 3.75350921 -1.85180051 -6.31333282], Fitness - 57.37616777766789\n",
            "Iteration 40: Best solution - [ 2.12492845 -1.29424708 -4.90538778], Fitness - 30.253225731893266\n",
            "Iteration 41: Best solution - [ 2.95908498 -0.03289976 -4.94505479], Fitness - 33.210833173224465\n",
            "Iteration 42: Best solution - [ 2.12800591  0.4860619  -4.31679939], Fitness - 23.39942234216722\n",
            "Iteration 43: Best solution - [ 2.37029048 -0.45635111 -4.77889399], Fitness - 28.664361079380313\n",
            "Iteration 44: Best solution - [ 1.66820319 -0.07601137 -6.093968  ], Fitness - 39.92512563927622\n",
            "Iteration 45: Best solution - [ 3.05807919 -0.81441438 -5.09046571], Fitness - 35.927960191299654\n",
            "Iteration 46: Best solution - [ 1.86522504 -0.79768564 -3.43712296], Fitness - 15.929181072670616\n",
            "Iteration 47: Best solution - [-0.07727687 -2.31314325 -3.4050152 ], Fitness - 16.950731931042096\n",
            "Iteration 48: Best solution - [-0.05886343 -1.52703242 -2.96480304], Fitness - 11.125349961685234\n",
            "Iteration 49: Best solution - [ 0.49541073 -2.68036301 -2.6288594 ], Fitness - 14.340679410394326\n",
            "Iteration 50: Best solution - [ 0.45632475 -3.92861301 -2.58265827], Fitness - 22.31235621813696\n",
            "Best solution found: [ 0.45632475 -3.92861301 -2.58265827], Fitness: 22.31235621813696\n"
          ]
        }
      ],
      "source": [
        "best_solution, best_fitness = clonal_selection_algorithm(dimensions, num_candidates, num_clones, mutation_rate, max_iterations)\n",
        "print(f\"Best solution found: {best_solution}, Fitness: {best_fitness}\")"
      ]
    }
  ],
  "metadata": {
    "kernelspec": {
      "display_name": "Python 3 (ipykernel)",
      "language": "python",
      "name": "python3"
    },
    "language_info": {
      "codemirror_mode": {
        "name": "ipython",
        "version": 3
      },
      "file_extension": ".py",
      "mimetype": "text/x-python",
      "name": "python",
      "nbconvert_exporter": "python",
      "pygments_lexer": "ipython3",
      "version": "3.9.13"
    },
    "colab": {
      "provenance": [],
      "include_colab_link": true
    }
  },
  "nbformat": 4,
  "nbformat_minor": 5
}